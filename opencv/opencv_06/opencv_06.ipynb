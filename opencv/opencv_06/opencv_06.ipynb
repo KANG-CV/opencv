{
 "cells": [
  {
   "cell_type": "markdown",
   "metadata": {},
   "source": [
    "# 图像金字塔与轮廓检测\n",
    "### 图像金字塔主要有两个：高斯金字塔与拉普拉斯金字塔"
   ]
  },
  {
   "cell_type": "code",
   "execution_count": 1,
   "metadata": {},
   "outputs": [],
   "source": [
    "#导入相关库与包\n",
    "import cv2\n",
    "import numpy as np\n",
    "import matplotlib.pyplot as plt\n",
    "%matplotlib inline"
   ]
  },
  {
   "cell_type": "markdown",
   "metadata": {},
   "source": [
    "# 高斯金字塔"
   ]
  },
  {
   "cell_type": "code",
   "execution_count": 2,
   "metadata": {},
   "outputs": [],
   "source": [
    "#定义一个图片显示函数\n",
    "def cv_show(name,img):\n",
    "    cv2.imshow(name,img)\n",
    "    cv2.waitKey(0)\n",
    "    cv2.destroyAllWindows()"
   ]
  },
  {
   "cell_type": "code",
   "execution_count": 3,
   "metadata": {},
   "outputs": [
    {
     "name": "stdout",
     "output_type": "stream",
     "text": [
      "(422, 470, 3)\n"
     ]
    }
   ],
   "source": [
    "#高斯金字塔应用\n",
    "bi = cv2.imread(\"labixiaoxin.jfif\")\n",
    "cv_show(\"bi\",bi)\n",
    "print(bi.shape)"
   ]
  },
  {
   "cell_type": "code",
   "execution_count": 5,
   "metadata": {},
   "outputs": [
    {
     "name": "stdout",
     "output_type": "stream",
     "text": [
      "(844, 940, 3)\n"
     ]
    }
   ],
   "source": [
    "#高斯金字塔向上采样\n",
    "bi_up = cv2.pyrUp(bi)\n",
    "cv_show(\"bi_up\",bi_up)\n",
    "print(bi_up.shape)"
   ]
  },
  {
   "cell_type": "code",
   "execution_count": 8,
   "metadata": {},
   "outputs": [
    {
     "name": "stdout",
     "output_type": "stream",
     "text": [
      "(211, 235, 3)\n"
     ]
    }
   ],
   "source": [
    "#高斯金字塔向下采样\n",
    "bi_down = cv2.pyrDown(bi)\n",
    "cv_show(\"bi_down\",bi_down)\n",
    "print(bi_down.shape)"
   ]
  },
  {
   "cell_type": "code",
   "execution_count": 16,
   "metadata": {},
   "outputs": [
    {
     "name": "stdout",
     "output_type": "stream",
     "text": [
      "(1688, 1880, 3)\n"
     ]
    },
    {
     "data": {
      "text/plain": [
       "True"
      ]
     },
     "execution_count": 16,
     "metadata": {},
     "output_type": "execute_result"
    }
   ],
   "source": [
    "#将bi_up继续向上采样\n",
    "bi_up2 = cv2.pyrUp(bi_up)\n",
    "cv_show(\"bi_up2\",bi_up2)\n",
    "print(bi_up2.shape)\n",
    "cv2.imwrite(\"bi_up.jpg\",bi_up2)     #可以看出，保存的图片比原图片大了不少，约16倍吧"
   ]
  },
  {
   "cell_type": "code",
   "execution_count": 11,
   "metadata": {},
   "outputs": [
    {
     "name": "stdout",
     "output_type": "stream",
     "text": [
      "(844, 940, 3)\n"
     ]
    }
   ],
   "source": [
    "#将bi_up2向下采样，使其变回bi_up\n",
    "bi_up3 = cv2.pyrDown(bi_up2)\n",
    "cv_show(\"bi_up3\",bi_up3)\n",
    "print(bi_up3.shape)"
   ]
  },
  {
   "cell_type": "code",
   "execution_count": 18,
   "metadata": {},
   "outputs": [],
   "source": [
    "#原图像与up_down图像对比\n",
    "bi_up_down = cv2.pyrDown(bi_up)\n",
    "cv_show(\"up_down\",np.hstack((bi,bi_up_down)))\n",
    "#可以发现，原图像会比较清晰"
   ]
  },
  {
   "cell_type": "markdown",
   "metadata": {},
   "source": [
    "# 拉普拉斯金字塔"
   ]
  },
  {
   "cell_type": "code",
   "execution_count": 21,
   "metadata": {},
   "outputs": [
    {
     "data": {
      "text/plain": [
       "True"
      ]
     },
     "execution_count": 21,
     "metadata": {},
     "output_type": "execute_result"
    }
   ],
   "source": [
    "img = cv2.imread(\"flowers.jfif\")\n",
    "img_down = cv2.pyrDown(img)\n",
    "down_up = cv2.pyrUp(img_down)\n",
    "Laplascian = img - down_up\n",
    "cv_show(\"Laplascian\",Laplascian)\n",
    "cv2.imwrite(\"Laplace_flowers.jpg\",Laplascian)"
   ]
  },
  {
   "cell_type": "code",
   "execution_count": 20,
   "metadata": {},
   "outputs": [],
   "source": [
    "cv_show(\"img\",img)\n",
    "#经过Laplace金字塔（感觉是轮廓信息了），与原图的区别还是比较明显的。"
   ]
  },
  {
   "cell_type": "markdown",
   "metadata": {},
   "source": [
    "# 图像轮廓"
   ]
  },
  {
   "cell_type": "raw",
   "metadata": {},
   "source": [
    "cv2.findContours(img,mode,method)\n",
    "mode:轮廓检索模式\n",
    "1）RETR_EXTERNAL: 只检索最外面的轮廓；\n",
    "2）RETR_LIST:检索所有的轮廓，并将其保存到一条链表当中；\n",
    "3）RETR_CCOMP:检索所有的轮廓，并将他们组织为两层；顶层是各部分的外部边界，第二层是空间的边界；\n",
    "4）RETR_TREE:检索所有的轮廓，并重构嵌套轮廓的整个层次。（最常用的）\n",
    "mothod:轮廓逼近方法：\n",
    "1)CHAIN_APPROX_NONE:以Freeman链码的方式输出轮廓，所有其他方法输出多边形（顶点的序列）；\n",
    "2）CHAIN_APPROX_SIMPLE：压缩水平的、垂直的和斜的部分，也就是，函数只保留他们的终点部分。"
   ]
  },
  {
   "cell_type": "code",
   "execution_count": 24,
   "metadata": {},
   "outputs": [],
   "source": [
    "#为了更高的准确率，使用二值图像\n",
    "pi_img = cv2.imread(\"pi.jfif\")\n",
    "gray = cv2.cvtColor(pi_img,cv2.COLOR_BGR2GRAY)      #把图像转化为灰度图\n",
    "ret,thresh = cv2.threshold(gray,127,255,cv2.THRESH_BINARY)  #得到了二值的结果\n",
    "cv_show(\"thresh\",thresh)"
   ]
  },
  {
   "cell_type": "code",
   "execution_count": 25,
   "metadata": {},
   "outputs": [],
   "source": [
    "binary,contours,hierarchy = cv2.findContours(thresh,cv2.RETR_TREE,cv2.CHAIN_APPROX_NONE)"
   ]
  },
  {
   "cell_type": "markdown",
   "metadata": {},
   "source": [
    "### 绘制轮廓"
   ]
  },
  {
   "cell_type": "code",
   "execution_count": 31,
   "metadata": {},
   "outputs": [],
   "source": [
    "#传入绘制图像，轮廓，轮廓索引，颜色模式，线条厚度\n",
    "#注意需要copy,要不原图会变\n",
    "draw_img = pi_img.copy()\n",
    "res = cv2.drawContours(draw_img,contours,-1,(0,0,255),2)        #-1默认全部轮廓\n",
    "cv_show(\"res\",res)"
   ]
  },
  {
   "cell_type": "code",
   "execution_count": 30,
   "metadata": {},
   "outputs": [],
   "source": [
    "#注意区别\n",
    "res = cv2.drawContours(draw_img,contours,-1,(0,0,255),2)    #0，0，255 （BGR）想用什么颜色绘制就改变就好。\n",
    "cv_show(\"res\",res)"
   ]
  },
  {
   "cell_type": "code",
   "execution_count": 27,
   "metadata": {},
   "outputs": [],
   "source": [
    "draw_img = pi_img.copy()\n",
    "res = cv2.drawContours(draw_img,contours,0,(0,0,255),2)\n",
    "cv_show(\"res\",res)"
   ]
  },
  {
   "cell_type": "markdown",
   "metadata": {},
   "source": [
    "### 轮廓特征"
   ]
  },
  {
   "cell_type": "code",
   "execution_count": 32,
   "metadata": {},
   "outputs": [],
   "source": [
    "cat = contours[0]"
   ]
  },
  {
   "cell_type": "code",
   "execution_count": 33,
   "metadata": {},
   "outputs": [
    {
     "data": {
      "text/plain": [
       "421201.0"
      ]
     },
     "execution_count": 33,
     "metadata": {},
     "output_type": "execute_result"
    }
   ],
   "source": [
    "#计算面积，需要把每个轮廓拿出来算才可以\n",
    "cv2.contourArea(cat)"
   ]
  },
  {
   "cell_type": "code",
   "execution_count": 34,
   "metadata": {},
   "outputs": [
    {
     "data": {
      "text/plain": [
       "2596.0"
      ]
     },
     "execution_count": 34,
     "metadata": {},
     "output_type": "execute_result"
    }
   ],
   "source": [
    "#周长，True表示轮廓是闭合的\n",
    "cv2.arcLength(cat,True)"
   ]
  },
  {
   "cell_type": "markdown",
   "metadata": {},
   "source": [
    "### 轮廓的近似"
   ]
  },
  {
   "cell_type": "code",
   "execution_count": 36,
   "metadata": {},
   "outputs": [],
   "source": [
    "img = cv2.imread(\"dance.jfif\")\n",
    "\n",
    "gray = cv2.cvtColor(img,cv2.COLOR_BGR2GRAY)\n",
    "ret, thresh = cv2.threshold(gray,127,255,cv2.THRESH_BINARY)\n",
    "binary,contours,hieraachy = cv2.findContours(thresh,cv2.RETR_TREE,cv2.CHAIN_APPROX_NONE)\n",
    "cat = contours[0]\n",
    "\n",
    "draw_img = img.copy()\n",
    "res = cv2.drawContours(draw_img,[cat],-1,(0,0,255),2)\n",
    "cv_show(\"res\",res)"
   ]
  },
  {
   "cell_type": "code",
   "execution_count": 42,
   "metadata": {},
   "outputs": [],
   "source": [
    "epsilon = 0.1*cv2.arcLength(cat,True)\n",
    "approx = cv2.approxPolyDP(cat,epsilon,True)    #第一参数：指定的轮廓；第二参数：阈值（作比较）；\n",
    "\n",
    "draw_img = img.copy()\n",
    "res = res = cv2.drawContours(draw_img,[approx],-1,(0,0,255),2)\n",
    "cv_show(\"res\",res)"
   ]
  },
  {
   "cell_type": "markdown",
   "metadata": {},
   "source": [
    "### 边界矩形"
   ]
  },
  {
   "cell_type": "code",
   "execution_count": 47,
   "metadata": {},
   "outputs": [],
   "source": [
    "img = cv2.imread(\"ciecle.jfif\")\n",
    "gray = cv2.cvtColor(img,cv2.COLOR_BGR2GRAY)\n",
    "ret, thresh = cv2.threshold(gray,127,255,cv2.THRESH_BINARY)\n",
    "binary,contours,hieraachy = cv2.findContours(thresh,cv2.RETR_TREE,cv2.CHAIN_APPROX_NONE)\n",
    "cat = contours[2]\n",
    "\n",
    "x,y,w,h = cv2.boundingRect(cat)\n",
    "img = cv2.rectangle(img,(x,y),(x+w,y+h),(0,255,0),2)\n",
    "cv_show(\"img\",img)"
   ]
  },
  {
   "cell_type": "code",
   "execution_count": 48,
   "metadata": {},
   "outputs": [
    {
     "name": "stdout",
     "output_type": "stream",
     "text": [
      "轮廓面积与边界矩形比 0.34285714285714286\n"
     ]
    }
   ],
   "source": [
    "area = cv2.contourArea(cat)\n",
    "x,y,w,h = cv2.boundingRect(cat)\n",
    "rect_area = w*h\n",
    "extent = float(area)/rect_area\n",
    "print(\"轮廓面积与边界矩形比\",extent)"
   ]
  },
  {
   "cell_type": "markdown",
   "metadata": {},
   "source": [
    "# 总结"
   ]
  },
  {
   "cell_type": "raw",
   "metadata": {},
   "source": [
    "data:2020/02/26;    author:Kang"
   ]
  },
  {
   "cell_type": "code",
   "execution_count": null,
   "metadata": {},
   "outputs": [],
   "source": []
  }
 ],
 "metadata": {
  "kernelspec": {
   "display_name": "Python 3",
   "language": "python",
   "name": "python3"
  },
  "language_info": {
   "codemirror_mode": {
    "name": "ipython",
    "version": 3
   },
   "file_extension": ".py",
   "mimetype": "text/x-python",
   "name": "python",
   "nbconvert_exporter": "python",
   "pygments_lexer": "ipython3",
   "version": "3.7.4"
  }
 },
 "nbformat": 4,
 "nbformat_minor": 2
}
