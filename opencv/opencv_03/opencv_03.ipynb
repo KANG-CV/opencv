{
 "cells": [
  {
   "cell_type": "code",
   "execution_count": 1,
   "metadata": {},
   "outputs": [],
   "source": [
    "#导入相关的库\n",
    "import cv2\n",
    "import numpy as np\n",
    "import matplotlib.pyplot as plt\n",
    "%matplotlib inline"
   ]
  },
  {
   "cell_type": "code",
   "execution_count": 2,
   "metadata": {},
   "outputs": [],
   "source": [
    "#定义一个图像显示函数\n",
    "def cv_show(name,img):\n",
    "    cv2.imshow(name,img)\n",
    "    cv2.waitKey(0)\n",
    "    cv2.destroyAllWindows()"
   ]
  },
  {
   "cell_type": "markdown",
   "metadata": {},
   "source": [
    "# 形态学——腐蚀操作（功能：取毛刺、是内容变小（相对而言）等等）"
   ]
  },
  {
   "cell_type": "code",
   "execution_count": 3,
   "metadata": {},
   "outputs": [],
   "source": [
    "#加载第一张图片\n",
    "on = cv2.imread(\"on.jfif\")\n",
    "cv_show(\"on\",on)"
   ]
  },
  {
   "cell_type": "code",
   "execution_count": 4,
   "metadata": {},
   "outputs": [],
   "source": [
    "#加载另一张图片\n",
    "double = cv2.imread(\"double.jfif\")\n",
    "cv_show(\"double\",double)\n",
    "#只是观察这张照片背景上核主体上都有很多小毛刺，所以我们可以使用腐蚀操作进行处理"
   ]
  },
  {
   "cell_type": "code",
   "execution_count": 5,
   "metadata": {},
   "outputs": [],
   "source": [
    "kernel = np.ones((5,5),np.uint8)    #创造一个5*5的核\n",
    "erosion = cv2.erode(double,kernel,iterations = 1)        #iterations该参数是起指定腐蚀的迭代次数的作用\n",
    "\n",
    "cv_show(\"erosion\",erosion)"
   ]
  },
  {
   "cell_type": "code",
   "execution_count": 6,
   "metadata": {},
   "outputs": [],
   "source": [
    "#腐蚀另一张图片，查看效果\n",
    "on = cv2.erode(on,kernel,iterations = 1)\n",
    "\n",
    "cv_show(\"on\",on)\n",
    "#经过腐蚀处理，on这个字体整体来说会变得更细，更小了"
   ]
  },
  {
   "cell_type": "code",
   "execution_count": 7,
   "metadata": {},
   "outputs": [],
   "source": [
    "#加载第三张图片\n",
    "yuan = cv2.imread(\"circle.jfif\")\n",
    "cv_show(\"circle\",yuan)"
   ]
  },
  {
   "cell_type": "code",
   "execution_count": 8,
   "metadata": {},
   "outputs": [],
   "source": [
    "#对第三幅图进行腐蚀，改变腐蚀的迭代次数\n",
    "kernel = np.ones((30,30),np.uint8)    #创造一个30*30的核\n",
    "erosion_1 = cv2.erode(yuan,kernel,iterations = 1) \n",
    "erosion_2 = cv2.erode(yuan,kernel,iterations = 2) \n",
    "erosion_3 = cv2.erode(yuan,kernel,iterations = 3) \n",
    "res = np.hstack((erosion_1,erosion_2,erosion_3))   #将三张图水平放置，若使用函数vstack则是将图片垂直放置\n",
    "cv_show(\"res\",res)"
   ]
  },
  {
   "cell_type": "code",
   "execution_count": 9,
   "metadata": {},
   "outputs": [],
   "source": [
    "#对第三幅图进行腐蚀，改变腐蚀的迭代次数与核，与上一步的图进行对比\n",
    "kernel = np.ones((3,3),np.uint8)    #创造一个3*3的核，和大小会对腐蚀效果有比较大的影响\n",
    "lerosion_1 = cv2.erode(yuan,kernel,iterations = 1) \n",
    "lerosion_2 = cv2.erode(yuan,kernel,iterations = 2) \n",
    "lerosion_3 = cv2.erode(yuan,kernel,iterations = 3) \n",
    "lres = np.hstack((lerosion_1,lerosion_2,lerosion_3))   #将三张图水平放置，若使用函数vstack则是将图片垂直放置\n",
    "cv_show(\"lres\",lres)"
   ]
  },
  {
   "cell_type": "markdown",
   "metadata": {},
   "source": [
    "# 形态学——膨胀操作（腐蚀操作的逆操作）变大的过程"
   ]
  },
  {
   "cell_type": "code",
   "execution_count": 10,
   "metadata": {},
   "outputs": [],
   "source": [
    "#膨胀on这一副图片\n",
    "kernel = np.ones((3,3),np.uint8)   #注意此处核为3*3\n",
    "dige_erosion_1 = cv2.dilate(on,kernel,iterations = 1)\n",
    "cv_show(\"on\",dige_erosion_1)"
   ]
  },
  {
   "cell_type": "code",
   "execution_count": 11,
   "metadata": {},
   "outputs": [],
   "source": [
    "#膨胀double这一副图片\n",
    "dige_erosion_2 = cv2.dilate(double,kernel,iterations = 1)\n",
    "cv_show(\"double\",dige_erosion_2)"
   ]
  },
  {
   "cell_type": "code",
   "execution_count": 12,
   "metadata": {},
   "outputs": [],
   "source": [
    "#膨胀ciecle这一副图片\n",
    "dige_erosion_3 = cv2.dilate(yuan,kernel,iterations = 1)\n",
    "cv_show(\"circle\",dige_erosion_3)"
   ]
  },
  {
   "cell_type": "code",
   "execution_count": 13,
   "metadata": {},
   "outputs": [],
   "source": [
    "#改变膨胀on这幅图的膨胀迭代系数\n",
    "dige_erosion_01 = cv2.dilate(on,kernel,iterations = 1)\n",
    "dige_erosion_02 = cv2.dilate(on,kernel,iterations = 2)\n",
    "dige_erosion_03= cv2.dilate(on,kernel,iterations = 3)\n",
    "dige_res = np.vstack((dige_erosion_01,dige_erosion_02,dige_erosion_03))   #将三张图水平放置，若使用函数vstack则是将图片垂直放置\n",
    "cv_show(\"res\",dige_res)\n",
    "#彷佛这张图的效果不太明显，那么换一张图"
   ]
  },
  {
   "cell_type": "code",
   "execution_count": 14,
   "metadata": {},
   "outputs": [],
   "source": [
    "#改变膨胀double这幅图的膨胀迭代系数\n",
    "dige_erosion_double01 = cv2.dilate(double,kernel,iterations = 1)\n",
    "dige_erosion_double02 = cv2.dilate(double,kernel,iterations = 2)\n",
    "dige_erosion_double03= cv2.dilate(double,kernel,iterations = 3)\n",
    "dige_res_double = np.hstack((dige_erosion_double01,dige_erosion_double02,dige_erosion_double03))   #将三张图水平放置，若使用函数vstack则是将图片垂直放置\n",
    "cv_show(\"res\",dige_res_double)"
   ]
  },
  {
   "cell_type": "code",
   "execution_count": 15,
   "metadata": {},
   "outputs": [],
   "source": [
    "#改变膨胀的核大小\n",
    "kernel = np.ones((10,10),np.uint8)   #注意此处核为10*10\n",
    "dige_erosion_01 = cv2.dilate(on,kernel,iterations = 1)\n",
    "dige_erosion_02 = cv2.dilate(on,kernel,iterations = 2)\n",
    "dige_erosion_03= cv2.dilate(on,kernel,iterations = 3)\n",
    "dige_res = np.vstack((dige_erosion_01,dige_erosion_02,dige_erosion_03))   #将三张图水平放置，若使用函数vstack则是将图片垂直放置\n",
    "cv_show(\"res\",dige_res)\n",
    "#彷佛这张图的效果不太明显，那么换一张图"
   ]
  },
  {
   "cell_type": "code",
   "execution_count": 16,
   "metadata": {},
   "outputs": [],
   "source": [
    "#改变膨胀double这幅图的膨胀迭代系数\n",
    "dige_erosion_double01 = cv2.dilate(double,kernel,iterations = 1)\n",
    "dige_erosion_double02 = cv2.dilate(double,kernel,iterations = 2)\n",
    "dige_erosion_double03= cv2.dilate(double,kernel,iterations = 3)\n",
    "dige_res_double = np.hstack((dige_erosion_double01,dige_erosion_double02,dige_erosion_double03))   #将三张图水平放置，若使用函数vstack则是将图片垂直放置\n",
    "cv_show(\"res\",dige_res_double)"
   ]
  },
  {
   "cell_type": "raw",
   "metadata": {},
   "source": [
    "可以发现腐蚀与膨胀是一对相互逆的操作，当去毛刺的时候使用了腐蚀操作记得在进行相应系数的膨胀操作，反之亦然。由此也产生了开、闭运算。"
   ]
  },
  {
   "cell_type": "markdown",
   "metadata": {},
   "source": [
    "# 开运算与闭运算"
   ]
  },
  {
   "cell_type": "raw",
   "metadata": {},
   "source": [
    "开运算：先腐蚀，后膨胀；\n",
    "闭运算：先膨胀，再腐蚀。"
   ]
  },
  {
   "cell_type": "code",
   "execution_count": 17,
   "metadata": {},
   "outputs": [],
   "source": [
    "#开运算\n",
    "kernel = np.ones((5,5),np.uint8)   #注意此处核为5*5\n",
    "opening_on = cv2.morphologyEx(on,cv2.MORPH_OPEN,kernel)\n",
    "cv_show(\"opening_on\",opening_on)"
   ]
  },
  {
   "cell_type": "code",
   "execution_count": 18,
   "metadata": {},
   "outputs": [],
   "source": [
    "opening_double = cv2.morphologyEx(double,cv2.MORPH_OPEN,kernel)\n",
    "cv_show(\"opening_double\",opening_double)"
   ]
  },
  {
   "cell_type": "code",
   "execution_count": 19,
   "metadata": {},
   "outputs": [],
   "source": [
    "opening_yuan = cv2.morphologyEx(yuan,cv2.MORPH_OPEN,kernel)\n",
    "cv_show(\"opening_yuan\",opening_yuan)"
   ]
  },
  {
   "cell_type": "code",
   "execution_count": 20,
   "metadata": {},
   "outputs": [],
   "source": [
    "#闭运算\n",
    "opening_on = cv2.morphologyEx(on,cv2.MORPH_CLOSE,kernel)\n",
    "cv_show(\"opening_on\",opening_on)"
   ]
  },
  {
   "cell_type": "code",
   "execution_count": 21,
   "metadata": {},
   "outputs": [],
   "source": [
    "opening_double = cv2.morphologyEx(double,cv2.MORPH_CLOSE,kernel)\n",
    "cv_show(\"opening_double\",opening_double)"
   ]
  },
  {
   "cell_type": "code",
   "execution_count": 22,
   "metadata": {},
   "outputs": [],
   "source": [
    "opening_yuan = cv2.morphologyEx(yuan,cv2.MORPH_CLOSE,kernel)\n",
    "cv_show(\"opening_yuan\",opening_yuan)"
   ]
  },
  {
   "cell_type": "markdown",
   "metadata": {},
   "source": [
    "# 梯度运算（梯度 = 膨胀 - 腐蚀）"
   ]
  },
  {
   "cell_type": "code",
   "execution_count": 23,
   "metadata": {},
   "outputs": [],
   "source": [
    "dilate_on = cv2.dilate(on,kernel,iterations = 3)    #特别注意iterations是有s的，复数形式，我老是忘记s.导致出错。\n",
    "erosion_on = cv2.erode(on,kernel,iterations = 3)\n",
    "res_on = np.hstack((dilate_on,erosion_on))\n",
    "cv_show(\"res\",res_on)"
   ]
  },
  {
   "cell_type": "code",
   "execution_count": 24,
   "metadata": {},
   "outputs": [],
   "source": [
    "#对on这一幅图片进行梯度运算\n",
    "gradient = cv2.morphologyEx(on,cv2.MORPH_GRADIENT,kernel)\n",
    "cv_show(\"gradient\",gradient)"
   ]
  },
  {
   "cell_type": "code",
   "execution_count": 25,
   "metadata": {},
   "outputs": [],
   "source": [
    "#对double这一幅图进行下手了\n",
    "dilate_double = cv2.dilate(double,kernel,iterations = 3)    #特别注意iterations是有s的，复数形式，我老是忘记s.导致出错。\n",
    "erosion_double = cv2.erode(double,kernel,iterations = 3)\n",
    "gradient_double = cv2.morphologyEx(double,cv2.MORPH_GRADIENT,kernel)\n",
    "res_double = np.hstack((dilate_double,erosion_double,gradient_double))\n",
    "cv_show(\"res\",res_double)"
   ]
  },
  {
   "cell_type": "code",
   "execution_count": 26,
   "metadata": {},
   "outputs": [],
   "source": [
    "#对ciecle这一幅图进行下手了\n",
    "dilate_yuan = cv2.dilate(yuan,kernel,iterations = 3)    #特别注意iterations是有s的，复数形式，我老是忘记s.导致出错。\n",
    "erosion_yuan = cv2.erode(yuan,kernel,iterations = 3)\n",
    "gradient_yuan = cv2.morphologyEx(yuan,cv2.MORPH_GRADIENT,kernel)\n",
    "res_yuan = np.hstack((dilate_yuan,erosion_yuan,gradient_yuan))\n",
    "cv_show(\"res\",res_yuan)"
   ]
  },
  {
   "cell_type": "raw",
   "metadata": {},
   "source": [
    "梯度运算常常会运用与边缘检测、边缘提取等等。"
   ]
  },
  {
   "cell_type": "markdown",
   "metadata": {},
   "source": [
    "# 礼貌与黑帽\n",
    "### 礼貌 = 原始输入 - 开运算结果\n",
    "### 黑帽 = 闭运算 - 原始结果"
   ]
  },
  {
   "cell_type": "code",
   "execution_count": 27,
   "metadata": {},
   "outputs": [],
   "source": [
    "#礼貌\n",
    "tophat_on = cv2.morphologyEx(on,cv2.MORPH_TOPHAT,kernel)\n",
    "cv_show(\"tophat_on\",tophat_on)"
   ]
  },
  {
   "cell_type": "code",
   "execution_count": 28,
   "metadata": {},
   "outputs": [],
   "source": [
    "tophat_double = cv2.morphologyEx(double,cv2.MORPH_TOPHAT,kernel)\n",
    "cv_show(\"tophat_double\",tophat_double)"
   ]
  },
  {
   "cell_type": "code",
   "execution_count": 29,
   "metadata": {},
   "outputs": [],
   "source": [
    "tophat_yuan = cv2.morphologyEx(yuan,cv2.MORPH_TOPHAT,kernel)\n",
    "cv_show(\"tophat_yuan\",tophat_yuan)"
   ]
  },
  {
   "cell_type": "code",
   "execution_count": 31,
   "metadata": {},
   "outputs": [],
   "source": [
    "#黑帽\n",
    "blackhat_on = cv2.morphologyEx(on,cv2.MORPH_BLACKHAT,kernel)\n",
    "cv_show(\"blackhat_on\",blackhat_on)"
   ]
  },
  {
   "cell_type": "code",
   "execution_count": 32,
   "metadata": {},
   "outputs": [],
   "source": [
    "blackhat_double = cv2.morphologyEx(double,cv2.MORPH_BLACKHAT,kernel)\n",
    "cv_show(\"blackhat_double\",blackhat_double)"
   ]
  },
  {
   "cell_type": "code",
   "execution_count": 33,
   "metadata": {},
   "outputs": [],
   "source": [
    "blackhat_ciecle = cv2.morphologyEx(yuan,cv2.MORPH_BLACKHAT,kernel)\n",
    "cv_show(\"blackhat_ciecle\",blackhat_ciecle)"
   ]
  },
  {
   "cell_type": "markdown",
   "metadata": {},
   "source": [
    "# 总结"
   ]
  },
  {
   "cell_type": "raw",
   "metadata": {},
   "source": [
    "data:2021/02/25;    author:Kang\n",
    "在opencv中形态学处理常常用的也就是那几点：1）腐蚀与膨胀；2）开运算与闭运算；3）梯度运算；4）礼貌与黑帽\n",
    "注意事项：\n",
    "1）图片的选取必须是二值化的图片；\n",
    "1）在膨胀与腐蚀操作时，尽量选取一些带毛刺的照片，那样的效果会更加的明显。"
   ]
  },
  {
   "cell_type": "code",
   "execution_count": null,
   "metadata": {},
   "outputs": [],
   "source": []
  }
 ],
 "metadata": {
  "kernelspec": {
   "display_name": "Python 3",
   "language": "python",
   "name": "python3"
  },
  "language_info": {
   "codemirror_mode": {
    "name": "ipython",
    "version": 3
   },
   "file_extension": ".py",
   "mimetype": "text/x-python",
   "name": "python",
   "nbconvert_exporter": "python",
   "pygments_lexer": "ipython3",
   "version": "3.7.4"
  }
 },
 "nbformat": 4,
 "nbformat_minor": 2
}
