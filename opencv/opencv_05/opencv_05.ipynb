{
 "cells": [
  {
   "cell_type": "code",
   "execution_count": 1,
   "metadata": {},
   "outputs": [],
   "source": [
    "#导入相关的库\n",
    "import cv2\n",
    "import numpy as np\n",
    "import matplotlib.pyplot as plt\n",
    "%matplotlib inline"
   ]
  },
  {
   "cell_type": "markdown",
   "metadata": {},
   "source": [
    "# Canny边缘检测\n",
    "### 1）使用高斯滤波器，以平滑图像，滤除噪声；\n",
    "### 2）计算图像中每个像素点的梯度强度和方向；\n",
    "### 3）应用非极大值（Non-Maximum Suppression）一致，以消除边缘检测带来的杂散响应；\n",
    "### 4）应用双阈值（Double-Threshold）检测来确定真实的和潜在的边缘；\n",
    "### 5）通过抑制孤立的弱边缘最终完成边缘检测。"
   ]
  },
  {
   "cell_type": "code",
   "execution_count": 2,
   "metadata": {},
   "outputs": [],
   "source": [
    "#定义一个图片显示函数cv_show\n",
    "def cv_show(name,img):\n",
    "    cv2.imshow(name,img)\n",
    "    cv2.waitKey(0)\n",
    "    cv2.destroyAllWindows()"
   ]
  },
  {
   "cell_type": "code",
   "execution_count": 3,
   "metadata": {},
   "outputs": [],
   "source": [
    "people = cv2.imread(\"ren.jfif\",cv2.IMREAD_GRAYSCALE)\n",
    "\n",
    "people_1 = cv2.Canny(people,150,200)  #150和200分别是最小阈值和最大阈值\n",
    "people_2 = cv2.Canny(people,50,100)\n",
    "\n",
    "res_1 = np.hstack((people_1,people_2))\n",
    "cv_show(\"res_1\",res_1)"
   ]
  },
  {
   "cell_type": "code",
   "execution_count": 4,
   "metadata": {},
   "outputs": [],
   "source": [
    "caoren = cv2.imread(\"caoren.jpg\",cv2.IMREAD_GRAYSCALE)\n",
    "\n",
    "caoren_1 = cv2.Canny(caoren,100,300)  #150和200分别是最小阈值和最大阈值\n",
    "caoren_2 = cv2.Canny(caoren,50,100)\n",
    "\n",
    "res_2 = np.hstack((caoren,caoren_1,caoren_2))\n",
    "cv_show(\"res_2\",res_2)"
   ]
  },
  {
   "cell_type": "code",
   "execution_count": 5,
   "metadata": {},
   "outputs": [],
   "source": [
    "jing = cv2.imread(\"jing.jfif\",cv2.IMREAD_GRAYSCALE)\n",
    "\n",
    "jing_1 = cv2.Canny(jing,100,300)  #150和200分别是最小阈值和最大阈值\n",
    "jing_2 = cv2.Canny(jing,50,100)\n",
    "\n",
    "res_3 = np.hstack((jing_1,jing_2))\n",
    "cv_show(\"res_3\",res_3)"
   ]
  },
  {
   "cell_type": "code",
   "execution_count": 6,
   "metadata": {},
   "outputs": [],
   "source": [
    "M = cv2.imread(\"M.jpg\",cv2.IMREAD_GRAYSCALE)\n",
    "\n",
    "M_1 = cv2.Canny(M,75,115)  #150和200分别是最小阈值和最大阈值\n",
    "M_2 = cv2.Canny(M,50,100)\n",
    "\n",
    "res_4 = np.hstack((M,M_1,M_2))\n",
    "cv_show(\"res_4\",res_4)"
   ]
  },
  {
   "cell_type": "markdown",
   "metadata": {},
   "source": [
    "# 总结"
   ]
  },
  {
   "cell_type": "raw",
   "metadata": {},
   "source": [
    "本节的代码比较简单，但要掌握的概念是比较有难度的，即理解起来会比以往的难一点，但也不是特别的难。完全可以掌握的。"
   ]
  },
  {
   "cell_type": "code",
   "execution_count": null,
   "metadata": {},
   "outputs": [],
   "source": []
  }
 ],
 "metadata": {
  "kernelspec": {
   "display_name": "Python 3",
   "language": "python",
   "name": "python3"
  },
  "language_info": {
   "codemirror_mode": {
    "name": "ipython",
    "version": 3
   },
   "file_extension": ".py",
   "mimetype": "text/x-python",
   "name": "python",
   "nbconvert_exporter": "python",
   "pygments_lexer": "ipython3",
   "version": "3.7.4"
  }
 },
 "nbformat": 4,
 "nbformat_minor": 2
}
