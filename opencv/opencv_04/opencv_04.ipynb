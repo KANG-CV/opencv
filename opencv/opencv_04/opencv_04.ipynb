{
 "cells": [
  {
   "cell_type": "code",
   "execution_count": 1,
   "metadata": {},
   "outputs": [],
   "source": [
    "#导入相关库\n",
    "import cv2\n",
    "import numpy as np\n",
    "import matplotlib.pyplot as plt\n",
    "%matplotlib inline"
   ]
  },
  {
   "cell_type": "markdown",
   "metadata": {},
   "source": [
    "# 图像梯度处理"
   ]
  },
  {
   "cell_type": "markdown",
   "metadata": {},
   "source": [
    "图像梯度——Sobel算子(图片在本路径中：sobel.png)口诀：右减左，下减上。"
   ]
  },
  {
   "cell_type": "code",
   "execution_count": 2,
   "metadata": {},
   "outputs": [],
   "source": [
    "#定义一个图片显示函数cv_show\n",
    "def cv_show(name,img):\n",
    "    cv2.imshow(name,img)\n",
    "    cv2.waitKey(0)\n",
    "    cv2.destroyAllWindows()\n",
    "#读取图片    \n",
    "img = cv2.imread(\"two.png\")\n",
    "cv_show(\"img\",img)"
   ]
  },
  {
   "cell_type": "raw",
   "metadata": {},
   "source": [
    "dst = cv2.Sobel(scr,ddepth,dx,dy,ksize)\n",
    "- ddepth:图像的深度\n",
    "- dx与dy分别表示水平与垂直方向\n",
    "- ksize是Sobel算子的大小，一般为3*3"
   ]
  },
  {
   "cell_type": "code",
   "execution_count": 3,
   "metadata": {},
   "outputs": [],
   "source": [
    "#此处只计算图片的水平梯度\n",
    "sobelx = cv2.Sobel(img,cv2.CV_64F,1,0,ksize = 3)     #cv2.CV_64F的作用是让负数也可以保留，并不是直接截断为0；dx与dy谁为1就算谁，可以同时为1\n",
    "\n",
    "cv_show(\"sobelx\",sobelx)"
   ]
  },
  {
   "cell_type": "raw",
   "metadata": {},
   "source": [
    "白到黑是整数，黑到白就是负数了，所有的负数会被截断成0，所以要去绝对值。"
   ]
  },
  {
   "cell_type": "code",
   "execution_count": 4,
   "metadata": {},
   "outputs": [],
   "source": [
    "sobelx = cv2.Sobel(img,cv2.CV_64F,1,0,ksize = 3)   #CV_64F是为了保留负数值，避免直接截断成0\n",
    "sobelx = cv2.convertScaleAbs(sobelx)       #该函数是把负数取绝对值，并不是单纯的不要了\n",
    "cv_show(\"sobelx\",sobelx)\n",
    "#只有边界的地方有梯度。"
   ]
  },
  {
   "cell_type": "code",
   "execution_count": 5,
   "metadata": {},
   "outputs": [],
   "source": [
    "sobelxy = cv2.Sobel(img,cv2.CV_64F,1,1,ksize = 3)\n",
    "sobelxy = cv2.convertScaleAbs(sobelxy)\n",
    "cv_show(\"sobelxy\",sobelxy)        #不建议直接算"
   ]
  },
  {
   "cell_type": "code",
   "execution_count": 6,
   "metadata": {},
   "outputs": [],
   "source": [
    "#换一张图可能会更明显一点吧\n",
    "yuan = cv2.imread(\"circle.jfif\")\n",
    "cv_show(\"ciecle\",yuan)"
   ]
  },
  {
   "cell_type": "code",
   "execution_count": 7,
   "metadata": {},
   "outputs": [],
   "source": [
    "sobelx = cv2.Sobel(yuan,cv2.CV_64F,1,0,ksize = 3) \n",
    "cv_show(\"sobelx\",sobelx)"
   ]
  },
  {
   "cell_type": "code",
   "execution_count": 8,
   "metadata": {},
   "outputs": [],
   "source": [
    "#分别计算x和y，在求和\n",
    "sobelx_yuan = cv2.Sobel(yuan,cv2.CV_64F,1,0,ksize = 3)\n",
    "sobelx_yuan = cv2.convertScaleAbs(sobelx_yuan)\n",
    "cv_show(\"sobelx_circle\",sobelx_yuan)"
   ]
  },
  {
   "cell_type": "code",
   "execution_count": 9,
   "metadata": {},
   "outputs": [],
   "source": [
    "sobely_yuan = cv2.Sobel(yuan,cv2.CV_64F,0,1,ksize = 3)\n",
    "sobely_yuan = cv2.convertScaleAbs(sobelx_yuan)\n",
    "cv_show(\"sobelx_circle\",sobely_yuan)"
   ]
  },
  {
   "cell_type": "code",
   "execution_count": 10,
   "metadata": {},
   "outputs": [],
   "source": [
    "sobelxy_yuan = cv2.addWeighted(sobelx_yuan,0.5,sobely_yuan,0.5,0)\n",
    "cv_show(\"sobelxy_yuan\",sobelxy_yuan)"
   ]
  },
  {
   "cell_type": "code",
   "execution_count": 11,
   "metadata": {},
   "outputs": [],
   "source": [
    "#不建议直接计算\n",
    "sobelxy_yuan = cv2.Sobel(yuan,cv2.CV_64F,1,1,ksize = 3)\n",
    "sobelxy_yuan = cv2.convertScaleAbs(sobelxy_yuan)\n",
    "cv_show(\"sobelx_circle\",sobelxy_yuan)      #不如分别计算的效果"
   ]
  },
  {
   "cell_type": "code",
   "execution_count": 12,
   "metadata": {},
   "outputs": [],
   "source": [
    "#加载lena的图片，老熟人了\n",
    "lena = cv2.imread(\"lena.jfif\")\n",
    "cv_show(\"lena\",lena)"
   ]
  },
  {
   "cell_type": "code",
   "execution_count": 13,
   "metadata": {},
   "outputs": [],
   "source": [
    "#分别计算的结果\n",
    "sobelx_lena = cv2.Sobel(lena,cv2.CV_64F,1,0,ksize = 3)\n",
    "sobelx_lena = cv2.convertScaleAbs(sobelx_lena)\n",
    "sobely_lena = cv2.Sobel(lena,cv2.CV_64F,1,0,ksize = 3)\n",
    "sobely_lena = cv2.convertScaleAbs(sobely_lena)\n",
    "sobelxy_lena = cv2.addWeighted(sobelx_lena,0.5,sobely_lena,0.5,0)\n",
    "cv_show(\"sobelxy_lena\",sobelxy_lena)"
   ]
  },
  {
   "cell_type": "code",
   "execution_count": 14,
   "metadata": {},
   "outputs": [],
   "source": [
    "#直接计算的效果\n",
    "sobelxy_le = cv2.Sobel(lena,cv2.CV_64F,1,1,ksize = 3)\n",
    "sobelxy_le = cv2.convertScaleAbs(sobelxy_le)\n",
    "cv_show(\"sobelxy_le\",sobelxy_le)\n",
    "#整体直接计算会出现类似于重影的感觉"
   ]
  },
  {
   "cell_type": "markdown",
   "metadata": {},
   "source": [
    "# 图像梯度——Scharr算子\n",
    "### 在本路径下，名为Scharr算子的图片中（对远近更敏感）"
   ]
  },
  {
   "cell_type": "markdown",
   "metadata": {},
   "source": [
    "# 图像梯度——laplacian算子\n",
    "### 在本路径下，名为laplacian算子的图片中（对噪音点敏感）"
   ]
  },
  {
   "cell_type": "code",
   "execution_count": 15,
   "metadata": {},
   "outputs": [],
   "source": [
    "#不同算子的差别\n",
    "#以下为Sobel算子\n",
    "sobelx_lena_S = cv2.Sobel(lena,cv2.CV_64F,1,0,ksize = 3)\n",
    "sobelx_lena_S = cv2.convertScaleAbs(sobelx_lena_S)\n",
    "sobely_lena_S = cv2.Sobel(lena,cv2.CV_64F,1,0,ksize = 3)\n",
    "sobely_lena_S = cv2.convertScaleAbs(sobely_lena_S)\n",
    "sobelxy_lena_S = cv2.addWeighted(sobelx_lena_S,0.5,sobely_lena_S,0.5,0)\n",
    "\n",
    "#以下则为拉普拉斯算子\n",
    "sobelxy_lena_L = cv2.Laplacian(lena,cv2.CV_64F)\n",
    "sobelxy_lena_L = cv2.convertScaleAbs(sobelxy_lena_L)\n",
    "\n",
    "#以下则为Scharr算子,比Sobel更敏感一点\n",
    "sobelx_lena_SC = cv2.Scharr(lena,cv2.CV_64F,1,0)\n",
    "sobelx_lena_SC = cv2.convertScaleAbs(sobelx_lena_SC)\n",
    "sobely_lena_SC = cv2.Scharr(lena,cv2.CV_64F,1,0)\n",
    "sobely_lena_SC = cv2.convertScaleAbs(sobely_lena_SC)\n",
    "sobelxy_lena_SC = cv2.addWeighted(sobelx_lena_SC,0.5,sobely_lena_SC,0.5,0)\n",
    "\n",
    "#显示差异\n",
    "res = np.hstack((sobelxy_lena_S,sobelxy_lena_SC,sobelxy_lena_L))\n",
    "cv_show(\"res\",res)"
   ]
  },
  {
   "cell_type": "markdown",
   "metadata": {},
   "source": [
    "# 总结"
   ]
  },
  {
   "cell_type": "raw",
   "metadata": {},
   "source": [
    "本节主要学习算子的用法与效果，分别是：1）Sobel算子；2）Scharr算子；3）Laplacian算子。"
   ]
  },
  {
   "cell_type": "code",
   "execution_count": null,
   "metadata": {},
   "outputs": [],
   "source": []
  }
 ],
 "metadata": {
  "kernelspec": {
   "display_name": "Python 3",
   "language": "python",
   "name": "python3"
  },
  "language_info": {
   "codemirror_mode": {
    "name": "ipython",
    "version": 3
   },
   "file_extension": ".py",
   "mimetype": "text/x-python",
   "name": "python",
   "nbconvert_exporter": "python",
   "pygments_lexer": "ipython3",
   "version": "3.7.4"
  }
 },
 "nbformat": 4,
 "nbformat_minor": 2
}
